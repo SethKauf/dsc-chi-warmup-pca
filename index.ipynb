{
 "cells": [
  {
   "cell_type": "markdown",
   "metadata": {},
   "source": [
    "# PCA Practice\n",
    "\n",
    "## Concepts\n",
    "\n",
    "#### Give at least two reasons why one might use PCA.  Be sure to include discussion of what problem PCA solves and how."
   ]
  },
  {
   "cell_type": "code",
   "execution_count": 1,
   "metadata": {},
   "outputs": [
    {
     "data": {
      "text/plain": [
       "'\\n1. PCA reduces dimensionality helping us find more useable features\\n\\n2. PCA reduces multicollinearity which can lead to incorrect models/data\\n'"
      ]
     },
     "execution_count": 1,
     "metadata": {},
     "output_type": "execute_result"
    }
   ],
   "source": [
    "#Your answers here\n",
    "\n",
    "\"\"\"\n",
    "1. PCA reduces dimensionality helping us find more useable features\n",
    "\n",
    "2. PCA reduces multicollinearity which can lead to incorrect models/data\n",
    "\"\"\""
   ]
  },
  {
   "cell_type": "code",
   "execution_count": 2,
   "metadata": {},
   "outputs": [],
   "source": [
    "# Run as-is\n",
    "from sklearn.datasets import make_classification\n",
    "from sklearn.pipeline import Pipeline\n",
    "from sklearn.decomposition import PCA\n",
    "from sklearn.linear_model import LogisticRegression\n",
    "from sklearn.model_selection import train_test_split\n",
    "from sklearn.metrics import f1_score\n",
    "from sklearn.model_selection import cross_validate\n",
    "from sklearn.preprocessing import StandardScaler\n",
    "import matplotlib.pyplot as plt\n",
    "import numpy as np\n",
    "\n",
    "%matplotlib inline\n",
    "import pickle as pkl\n",
    "\n",
    "with open('test_obj/X.pkl', 'rb') as f:\n",
    "    X = pkl.load(f)\n",
    "\n",
    "with open('test_obj/y.pkl', 'rb') as f:\n",
    "    y = pkl.load(f)  \n",
    "\n",
    "from test_scripts.test_class import Test\n",
    "test = Test()"
   ]
  },
  {
   "cell_type": "markdown",
   "metadata": {},
   "source": []
  },
  {
   "cell_type": "markdown",
   "metadata": {},
   "source": [
    "## Application\n",
    "\n",
    "### Data Exploration\n",
    "\n",
    "- Turn `X` (a np array of features) into a dataframe.  \n",
    "    - How many features are there? \n",
    "    - How many observations are there?\n",
    "\n",
    "- Turn `y` (a np array of the target) into a df.\n",
    "    - Are the observations in y continuous or discreet?\n",
    "    - Would prediction of y be a regression or classification problem?"
   ]
  },
  {
   "cell_type": "code",
   "execution_count": 13,
   "metadata": {},
   "outputs": [
    {
     "name": "stdout",
     "output_type": "stream",
     "text": [
      "features: 200\n",
      "observations: 10000\n",
      "   0\n",
      "0  0\n",
      "1  1\n",
      "2  1\n",
      "3  0\n",
      "4  0 \n",
      "\n",
      "y is discrete\n",
      "I believe classification but Im not sure\n"
     ]
    }
   ],
   "source": [
    "# your work here\n",
    "import pandas as pd\n",
    "df_X = pd.DataFrame(X)\n",
    "df_y = pd.DataFrame(y)\n",
    "\n",
    "print('features:', df_X.shape[1])\n",
    "print('observations:', df_X.shape[0])\n",
    "\n",
    "print(df_y[:5], '\\n\\ny is discrete')\n",
    "\n",
    "print('I believe classification but Im not sure')"
   ]
  },
  {
   "cell_type": "markdown",
   "metadata": {},
   "source": [
    "### PCA Exploration\n",
    "\n",
    "#### Run the following steps\n",
    "- Train Test Split, `random_state` = 1\n",
    "\n",
    "- Scale w/ StandardScaler\n",
    "\n",
    "- For the full PCA transformation (ie, w/o specifying `n_components` number)\n",
    "on `X_train`, store the explained variance ratio for each component \n",
    "in `evr`\n",
    "\n",
    "- Graph `evr`\n",
    "\n",
    "- Re-graph the first few components in order to focus on them (you'll see why)\n",
    "\n",
    "How many principal components does it look like we should choose?"
   ]
  },
  {
   "cell_type": "code",
   "execution_count": 18,
   "metadata": {},
   "outputs": [
    {
     "data": {
      "text/plain": [
       "[<matplotlib.lines.Line2D at 0x27e725419d0>]"
      ]
     },
     "execution_count": 18,
     "metadata": {},
     "output_type": "execute_result"
    },
    {
     "data": {
      "image/png": "[encoded data removed]",
      "text/plain": [
       "<Figure size 432x288 with 2 Axes>"
      ]
     },
     "metadata": {
      "needs_background": "light"
     },
     "output_type": "display_data"
    }
   ],
   "source": [
    "#Your work here\n",
    "\n",
    "X_train, X_test, y_train, y_test = train_test_split(X, y, random_state=1)\n",
    "\n",
    "pca = PCA()\n",
    "\n",
    "ss = StandardScaler()\n",
    "\n",
    "X_train_scaler = ss.fit_transform(X_train)\n",
    "\n",
    "X_train_pca = pca.fit_transform(X_train_scaler)\n",
    "\n",
    "evr = pca.explained_variance_ratio_\n",
    "\n",
    "fig, ax = plt.subplots(2)\n",
    "ax[0].plot(evr)\n",
    "ax[1].plot(evr)"
   ]
  },
  {
   "cell_type": "markdown",
   "metadata": {},
   "source": [
    "### Calculate Train and Test Error\n",
    "\n",
    "#### Run the following:\n",
    "- for the first 50 principal components,\n",
    "  - scale the data\n",
    "  - generate the number of principal components and transform them into features\n",
    "  - Using Logistic Regression with default inputs, generate train and test predictions through 10-fold cross validation\n",
    "    - *Hint:* use `sklearn.cross_validate`\n",
    "    - *Level up:* ideally, you would scale and PCA on each training fold (why?).  Use a pipeline!\n",
    "  - graph the means of the train and test predictions for each number of principal component\n",
    "\n",
    "#### Interpret the graph  \n",
    "- How many principle components should we choose based on this?\n",
    "- Is overfitting or underfitting a problem?\n",
    "\n",
    "#### Level up\n",
    "- Repeat the above but don't scale the data.  Intepret the results."
   ]
  },
  {
   "cell_type": "code",
   "execution_count": null,
   "metadata": {},
   "outputs": [],
   "source": [
    "#Your work here"
   ]
  },
  {
   "cell_type": "code",
   "execution_count": null,
   "metadata": {},
   "outputs": [],
   "source": []
  }
 ],
 "metadata": {
  "kernelspec": {
   "display_name": "Python 3",
   "language": "python",
   "name": "python3"
  },
  "language_info": {
   "codemirror_mode": {
    "name": "ipython",
    "version": 3
   },
   "file_extension": ".py",
   "mimetype": "text/x-python",
   "name": "python",
   "nbconvert_exporter": "python",
   "pygments_lexer": "ipython3",
   "version": "3.8.5"
  },
  "toc": {
   "base_numbering": 1,
   "nav_menu": {},
   "number_sections": false,
   "sideBar": true,
   "skip_h1_title": true,
   "title_cell": "Table of Contents",
   "title_sidebar": "Contents",
   "toc_cell": false,
   "toc_position": {},
   "toc_section_display": true,
   "toc_window_display": false
  },
  "varInspector": {
   "cols": {
    "lenName": 16,
    "lenType": 16,
    "lenVar": 40
   },
   "kernels_config": {
    "python": {
     "delete_cmd_postfix": "",
     "delete_cmd_prefix": "del ",
     "library": "var_list.py",
     "varRefreshCmd": "print(var_dic_list())"
    },
    "r": {
     "delete_cmd_postfix": ") ",
     "delete_cmd_prefix": "rm(",
     "library": "var_list.r",
     "varRefreshCmd": "cat(var_dic_list()) "
    }
   },
   "types_to_exclude": [
    "module",
    "function",
    "builtin_function_or_method",
    "instance",
    "_Feature"
   ],
   "window_display": false
  }
 },
 "nbformat": 4,
 "nbformat_minor": 4
}
